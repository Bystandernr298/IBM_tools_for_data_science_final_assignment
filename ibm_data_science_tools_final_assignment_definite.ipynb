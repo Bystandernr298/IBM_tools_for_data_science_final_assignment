{
 "cells": [
  {
   "cell_type": "markdown",
   "id": "4003290f-f20b-4d4a-a0a3-2ac2e6674bc4",
   "metadata": {},
   "source": [
    "<h1>Data Science Tools and Ecosystem</h1>"
   ]
  },
  {
   "cell_type": "markdown",
   "id": "1f43a702-b562-46ee-91b2-343b98f88b2c",
   "metadata": {},
   "source": [
    "<p style='color:gray'>In this notebook, Data Science Tools and Ecosystem are summarized.</p>"
   ]
  },
  {
   "cell_type": "markdown",
   "id": "a17fb52e-252a-404a-a3ac-ead8c314f0ec",
   "metadata": {},
   "source": [
    "<p>List of Data Science programming languages:</p>\n",
    "<ol>\n",
    "    <li>Python</li>\n",
    "    <li>R</li>\n",
    "    <li>Julia</li>\n",
    "    <li>Sql</li>\n",
    "    <li>Scala</li>\n",
    "</ol>"
   ]
  },
  {
   "cell_type": "markdown",
   "id": "084de1cd-fc3f-4f9e-8fc3-8b6c006b83e5",
   "metadata": {},
   "source": [
    "<p>List of Data Science Libraries</p>\n",
    "<ol>\n",
    "    <li>Numpy</li>\n",
    "    <li>Pandas</li>\n",
    "    <li>Matplotlib</li>\n",
    "    <li>Seaborn</li>\n",
    "    <li>Scikit-Learn</li>\n",
    "    <li>Keras</li>\n",
    "    <li>Pytorch</li>\n",
    "    <li>TensorFlow</li>\n",
    "    <li>Vegas</li>\n",
    "    <li>Big DL</li>\n",
    "    <li>GGPlot2</li>\n",
    "</ol>\n",
    "<p>Why make this an ordered list? Same with the previous one? Can Mr/Mrs Reviewer help me out?</p>"
   ]
  },
  {
   "cell_type": "markdown",
   "id": "2f28a04d-e16c-4063-b56c-14e992bdaf4c",
   "metadata": {},
   "source": [
    "<p><center>Data Science Tools</center></p>\n",
    "<table>\n",
    "    <tr>\n",
    "        <td>Hadoop</td>\n",
    "    </tr>\n",
    "    <tr>\n",
    "        <td>MongoDB</td>\n",
    "    </tr>\n",
    "    <tr>\n",
    "        <td>Ceph</td>\n",
    "    <tr>\n",
    "        <td>MySql</td>\n",
    "    </tr>\n",
    "    <tr>\n",
    "        <td>PostgreSql</td>\n",
    "    </tr>\n",
    "    <tr>\n",
    "        <td>Cassandra</td>\n",
    "    </tr>\n",
    "</table>"
   ]
  },
  {
   "cell_type": "markdown",
   "id": "d3cb8fba-0900-43f5-9126-351622cfcec9",
   "metadata": {},
   "source": [
    "<p>Below are a few examples of evaluating arithmetic expressions in Python</p>"
   ]
  },
  {
   "cell_type": "code",
   "execution_count": 5,
   "id": "de4295b9-2ef6-4c15-b6ca-6c8e36230510",
   "metadata": {},
   "outputs": [
    {
     "name": "stdout",
     "output_type": "stream",
     "text": [
      "Multiplication: 1 * 2 = 2\n",
      "Division: 4 / 2 = 2\n",
      "Addition: 1 + 1 = 2\n",
      "Subtraction: 2 - 1 = 1\n"
     ]
    }
   ],
   "source": [
    "print(f'Multiplication: 1 * 2 = {1 * 2}\\nDivision: 4 / 2 = {int(4 / 2)}')\n",
    "print(f'Addition: 1 + 1 = {1 + 1}\\nSubtraction: 2 - 1 = {2 -1}')"
   ]
  },
  {
   "cell_type": "markdown",
   "id": "b9d89a82-beb2-49ea-9130-3974a53428f4",
   "metadata": {},
   "source": [
    "<h3>Multiply the first 2 inputs then Add the last input</h3>"
   ]
  },
  {
   "cell_type": "code",
   "execution_count": 13,
   "id": "b2e29d8b-6e55-4fbb-9eaf-d6b49267064c",
   "metadata": {},
   "outputs": [
    {
     "data": {
      "text/plain": [
       "22"
      ]
     },
     "execution_count": 13,
     "metadata": {},
     "output_type": "execute_result"
    }
   ],
   "source": [
    "def mult_add(i, j, k):\n",
    "    return int((i * j) + k)\n",
    "\n",
    "\n",
    "mult_add(4, 5, 2)"
   ]
  },
  {
   "cell_type": "code",
   "execution_count": 11,
   "id": "de79bd16-8a43-472e-8f14-0da183898145",
   "metadata": {},
   "outputs": [
    {
     "data": {
      "text/plain": [
       "'Amount of hours: 4.0'"
      ]
     },
     "execution_count": 11,
     "metadata": {},
     "output_type": "execute_result"
    }
   ],
   "source": [
    "def minutes_to_hours(mins):\n",
    "    # Returns the amount of hours from the amount of minutes\n",
    "    return f'Amount of hours: {mins / 60}'\n",
    "\n",
    "\n",
    "minutes_to_hours(240)"
   ]
  },
  {
   "cell_type": "markdown",
   "id": "fa9c6fda-a21f-4fb0-91ea-39cdb4990e36",
   "metadata": {},
   "source": [
    "<p>List of objectives (not too sure what they want of me here):</p>\n",
    "<ol>\n",
    "    <li>Make a minutes to hours converter</li>\n",
    "    <li>Make a mult_add function</li>\n",
    "    <li>Listed Data Science Programming Languages</li>\n",
    "    <li>Hopefully haven't created a snoozefest for the person reviewing this</li>\n",
    "</ol>"
   ]
  },
  {
   "cell_type": "markdown",
   "id": "d6c4c4f6-352c-472e-b3ac-67ce64775881",
   "metadata": {},
   "source": [
    "<h2>Author:</h2><p style='color:gray'><em>&#169; Lars Bakker - Very much not yet a Data Scientist</em></p>"
   ]
  },
  {
   "cell_type": "code",
   "execution_count": null,
   "id": "c824ea03-ad5b-41fd-a846-34a5aa29c666",
   "metadata": {},
   "outputs": [],
   "source": []
  }
 ],
 "metadata": {
  "kernelspec": {
   "display_name": "Python",
   "language": "python",
   "name": "conda-env-python-py"
  },
  "language_info": {
   "codemirror_mode": {
    "name": "ipython",
    "version": 3
   },
   "file_extension": ".py",
   "mimetype": "text/x-python",
   "name": "python",
   "nbconvert_exporter": "python",
   "pygments_lexer": "ipython3",
   "version": "3.7.12"
  }
 },
 "nbformat": 4,
 "nbformat_minor": 5
}
